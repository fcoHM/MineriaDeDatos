{
 "cells": [
  {
   "cell_type": "markdown",
   "id": "4f9f2547",
   "metadata": {},
   "source": [
    "# Apuntes de Mineria de Datos."
   ]
  },
  {
   "cell_type": "markdown",
   "id": "b7bfbeb9",
   "metadata": {},
   "source": [
    "### Librerias necesarias"
   ]
  },
  {
   "cell_type": "code",
   "execution_count": 1,
   "id": "04ca62ba",
   "metadata": {},
   "outputs": [],
   "source": [
    "#Impoertar librerias necesarias\n",
    "import numpy as np\n",
    "import pandas as pd\n",
    "import matplotlib.pyplot as plt\n",
    "import seaborn as sns\n",
    "import plotly.express as px\n",
    "import scipy.stats as stats\n",
    "from collections import Counter\n",
    "from scipy.stats import skew\n",
    "from scipy.stats import kurtosis"
   ]
  },
  {
   "cell_type": "markdown",
   "id": "d121e8d8",
   "metadata": {},
   "source": [
    "### Optencion de datos"
   ]
  },
  {
   "cell_type": "code",
   "execution_count": 2,
   "id": "353fda18",
   "metadata": {},
   "outputs": [],
   "source": [
    "# cargar un cojunto de datos obteneidos desde un archivo .csv\n",
    "co2 = pd.read_csv(\"data_set.csv\")\n",
    "\n",
    "# se necesita una copia de los datos ya que NUNACA SE DEBE TRABAJAR SOBRE LA MISMA MUESTRA ORIGINAL\n",
    "df = co2.copy()"
   ]
  },
  {
   "cell_type": "markdown",
   "id": "5da955c9",
   "metadata": {},
   "source": [
    "- manipulacion de datos "
   ]
  },
  {
   "cell_type": "code",
   "execution_count": null,
   "id": "c486a49c",
   "metadata": {},
   "outputs": [],
   "source": [
    "# entendiendo nuestros datos\n",
    "df.head() # muestra los primeros n filas\n",
    "\n",
    "df.tail() # muestra lo constrario a head que son los ultimos n datos\n",
    "\n",
    "df.sample() # es un método de la librería pandas en Python que se utiliza para obtener una muestra aleatoria de filas (o columnas) de un DataFrame\n",
    "\n",
    "df.info() # nos da el nombre de la variable, el rango, 12 columnas, el numero de columna, nombre de la columna, valores vacios, tipo de datos"
   ]
  },
  {
   "cell_type": "markdown",
   "id": "ec17734b",
   "metadata": {},
   "source": [
    "- revicion de la integridad de los datos"
   ]
  },
  {
   "cell_type": "code",
   "execution_count": 4,
   "id": "4a1db845",
   "metadata": {},
   "outputs": [
    {
     "name": "stdout",
     "output_type": "stream",
     "text": [
      "Make                                0\n",
      "Model                               0\n",
      "Vehicle Class                       0\n",
      "Engine Size(L)                      0\n",
      "Cylinders                           0\n",
      "Transmission                        0\n",
      "Fuel Type                           0\n",
      "Fuel Consumption City (L/100 km)    0\n",
      "Fuel Consumption Hwy (L/100 km)     0\n",
      "Fuel Consumption Comb (L/100 km)    0\n",
      "Fuel Consumption Comb (mpg)         0\n",
      "CO2 Emissions(g/km)                 0\n",
      "dtype: int64\n",
      "Make                                0\n",
      "Model                               0\n",
      "Vehicle Class                       0\n",
      "Engine Size(L)                      0\n",
      "Cylinders                           0\n",
      "Transmission                        0\n",
      "Fuel Type                           0\n",
      "Fuel Consumption City (L/100 km)    0\n",
      "Fuel Consumption Hwy (L/100 km)     0\n",
      "Fuel Consumption Comb (L/100 km)    0\n",
      "Fuel Consumption Comb (mpg)         0\n",
      "CO2 Emissions(g/km)                 0\n",
      "dtype: int64\n",
      "                                  Count  Persentaje\n",
      "Make                                  0         0.0\n",
      "Model                                 0         0.0\n",
      "Vehicle Class                         0         0.0\n",
      "Engine Size(L)                        0         0.0\n",
      "Cylinders                             0         0.0\n",
      "Transmission                          0         0.0\n",
      "Fuel Type                             0         0.0\n",
      "Fuel Consumption City (L/100 km)      0         0.0\n",
      "Fuel Consumption Hwy (L/100 km)       0         0.0\n",
      "Fuel Consumption Comb (L/100 km)      0         0.0\n",
      "Fuel Consumption Comb (mpg)           0         0.0\n",
      "CO2 Emissions(g/km)                   0         0.0\n"
     ]
    }
   ],
   "source": [
    "# revisar valores faltantes\n",
    "missing_count = df.isnull().sum() # suma de los valores faltantes\n",
    "print(missing_count)\n",
    "\n",
    "# conteo del numero de valores de la columna\n",
    "value_count = df.isnull().count() # cuenta los valores de la columna\n",
    "print(missing_count)\n",
    "\n",
    "missing_percentaje = round(missing_count/value_count*100, 2) # porcentaje de perdida de datos\n",
    "missing_df = pd.DataFrame({\"Count\": missing_count, \"Persentaje\": missing_percentaje}) # genera un frame/ escrito de la info onbtenida\n",
    "\n",
    "\n",
    "print(missing_df)"
   ]
  }
 ],
 "metadata": {
  "kernelspec": {
   "display_name": "env",
   "language": "python",
   "name": "python3"
  },
  "language_info": {
   "codemirror_mode": {
    "name": "ipython",
    "version": 3
   },
   "file_extension": ".py",
   "mimetype": "text/x-python",
   "name": "python",
   "nbconvert_exporter": "python",
   "pygments_lexer": "ipython3",
   "version": "3.13.5"
  }
 },
 "nbformat": 4,
 "nbformat_minor": 5
}
